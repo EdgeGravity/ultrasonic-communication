{
 "cells": [
  {
   "cell_type": "markdown",
   "metadata": {},
   "source": [
    "# Chirp frame generator for \"chirp\" project\n",
    "\n",
    "June 3 - June 5, 2018\n",
    "\n",
    "Reference: \n",
    "- [Sound Synthesis with Numpy](https://dzone.com/articles/sound-synthesis-numpy)\n",
    "- [Decoding LoRa, a Wireless\n",
    "Network for the Internet of Things](https://www.rsaconference.com/writable/presentations/file_upload/hta-f01-decoding-lora-a-wireless-network-for-the-internet-of-things_copy1.pdf)\n",
    "- [LoRa Reverse Engineering and AES ](https://fosdem.org/2018/schedule/event/sdr_lora_aes/attachments/slides/2357/export/events/attachments/sdr_lora_aes/slides/2357/LoRa_AES_Security_SDR_FOSDEM_2018.pdf)"
   ]
  },
  {
   "cell_type": "code",
   "execution_count": 12,
   "metadata": {},
   "outputs": [],
   "source": [
    "%matplotlib inline\n",
    "\n",
    "from numpy import linspace, sin, cos, exp, pi, int16, append, abs, angle, ceil, argmax, real, random, array\n",
    "from scipy.io.wavfile import write\n",
    "from scipy.signal import spectrogram, welch, butter, lfilter\n",
    "from scipy.fftpack import fft, ifft, fftfreq, fftshift\n",
    "import matplotlib.pyplot as plt\n",
    "import peakutils\n",
    "import pandas"
   ]
  },
  {
   "cell_type": "markdown",
   "metadata": {},
   "source": [
    "TQ: Time Quantum, as specified in the CAN-bus spec. \n",
    "\n",
    "In this implementation, chirp is sent within TQ."
   ]
  },
  {
   "cell_type": "code",
   "execution_count": 13,
   "metadata": {},
   "outputs": [],
   "source": [
    "SAMPLING_RATE = 44100  # Hz\n",
    "TQ = 0.0205 # Time quantum in sec\n",
    "AMPLITUDE = 20000 # 16bit PCM max amplitude\n",
    "\n",
    "# Chirp sweep range in Hz\n",
    "#F1 = 17000\n",
    "#F2 = 18000\n",
    "F1 = 16000\n",
    "F2 = 19000"
   ]
  },
  {
   "cell_type": "markdown",
   "metadata": {},
   "source": [
    "## Chirp tone synthesis"
   ]
  },
  {
   "cell_type": "code",
   "execution_count": 14,
   "metadata": {},
   "outputs": [],
   "source": [
    "# Real version of chirp tone synthesis\n",
    "def chirp(f1, f2, length, amp=1, rate=SAMPLING_RATE, updown=\"up\"):\n",
    "    t = linspace(0, length, int(length * rate))\n",
    "    delta = float(f2 - f1)/float(length)\n",
    "    if (updown == \"up\"):\n",
    "        freq = f1 + delta * t / 2.0\n",
    "    elif (updown == \"down\"):\n",
    "        freq = f2 - delta * t / 2.0\n",
    "    data = sin(2 * pi * freq * t) * amp\n",
    "    return data.astype(int16) # two byte integers\n",
    "\n",
    "# Complex version of chirp tone synthesis\n",
    "def chirp_complex(f1, f2, length, amp=1, rate=SAMPLING_RATE, updown=\"up\", init_phase=pi/2.0):\n",
    "    t = linspace(0, length, int(length * rate))\n",
    "    delta = float(f2 - f1)/float(length)\n",
    "    if (updown == \"up\"):\n",
    "        freq = f1 + delta * t\n",
    "    elif (updown == \"down\"):\n",
    "        freq = f2 - delta * t\n",
    "    phase = 2 * pi * freq * t + init_phase\n",
    "    return (cos(phase) + 1j * sin(phase)) * amp\n",
    "#    return exp(1j * phase) * amp\n",
    "\n",
    "def white_noise(length, rate=SAMPLING_RATE, amp=1):\n",
    "    a = random.random(int(length * rate)) * 2 * amp - amp\n",
    "    b = random.random(int(length * rate)) * 2 * amp - amp\n",
    "    return a + 1j * b\n",
    "\n",
    "def constant_noise(freq, length, rate=SAMPLING_RATE, amp=1):\n",
    "    t = linspace(0, length, int(length * rate))\n",
    "    phase = 2 * pi * freq * t\n",
    "    return exp(1j * phase) * amp    "
   ]
  },
  {
   "cell_type": "markdown",
   "metadata": {},
   "source": [
    "## Chirp signal"
   ]
  },
  {
   "cell_type": "code",
   "execution_count": 15,
   "metadata": {},
   "outputs": [
    {
     "name": "stdout",
     "output_type": "stream",
     "text": [
      "Number of samples: 904\n"
     ]
    }
   ],
   "source": [
    "# Chirps two times within TQ (real version)\n",
    "def chirps_in_tq(level, updown=\"up\", amp=AMPLITUDE):\n",
    "    tone = None\n",
    "    if level >= 1:\n",
    "        tone = chirp(F1, F2, TQ, amp, updown=updown)\n",
    "    else:\n",
    "        tone = chirp(0, 0, TQ, amp, updown=updown)\n",
    "    return tone\n",
    "\n",
    "# Chirps two times within TQ (complex version)\n",
    "def chirps_in_tq_complex(level, updown=\"up\", amp=AMPLITUDE, phase=pi/2.0):\n",
    "    tone = None\n",
    "    if level >= 1:\n",
    "        tone = chirp_complex(F1, F2, TQ, amp, updown=updown, init_phase=phase)\n",
    "    else:\n",
    "        tone = chirp_complex(0, 0, TQ, amp, updown=updown, init_phase=phase)\n",
    "    return tone\n",
    "    \n",
    "HIGH = 1 # HIGH means one-time chirping within TQ\n",
    "LOW = 0 # LOW means no chirps within TQ (silent)\n",
    "\n",
    "TQ_HIGH = chirps_in_tq(HIGH)\n",
    "TQ_LOW = chirps_in_tq(LOW)\n",
    "TQ_HIGH_DOWN = chirps_in_tq(HIGH, updown=\"down\", amp=1)\n",
    "TQ_HIGH_COMPLEX = chirps_in_tq_complex(HIGH, updown=\"up\", amp=1)\n",
    "TQ_LOW_COMPLEX = chirps_in_tq_complex(LOW, updown=\"up\", amp=1)\n",
    "TQ_HIGH_DOWN_COMPLEX = chirps_in_tq_complex(HIGH, updown=\"down\", amp=1)\n",
    "\n",
    "# FFT of original signal\n",
    "CONSTANT_NOISE_FREQ = F1 + (F2-F1)/2\n",
    "tq_high = append(TQ_HIGH[100:], TQ_HIGH[:100])\n",
    "#orig_signal = tq_high +\\\n",
    "#    white_noise(TQ, amp=AMPLITUDE*8) +\\\n",
    "#    constant_noise(CONSTANT_NOISE_FREQ, TQ, amp=AMPLITUDE)\n",
    "orig_signal = tq_high +\\\n",
    "    real(white_noise(TQ, amp=AMPLITUDE*3)) +\\\n",
    "    real(constant_noise(CONSTANT_NOISE_FREQ, TQ, amp=AMPLITUDE))\n",
    "#orig_signal = \\\n",
    "#    real(white_noise(TQ, amp=AMPLITUDE*7)) +\\\n",
    "#    real(constant_noise(CONSTANT_NOISE_FREQ, TQ, amp=AMPLITUDE))\n",
    "\n",
    "#print(len(df[\"Amplitude\"]))\n",
    "#orig_signal = append(df[\"Amplitude\"], array([0,0]))\n",
    "\n",
    "y = fftshift(fft(orig_signal))\n",
    "\n",
    "# FFT of down chirp and conjugate chirp\n",
    "y_conj = fftshift(fft(TQ_HIGH_COMPLEX.conjugate()))\n",
    "y_down = fftshift(fft(TQ_HIGH_DOWN_COMPLEX))\n",
    "y_down_conj = fftshift(fft(TQ_HIGH_DOWN_COMPLEX.conjugate()))\n",
    "\n",
    "# FFT of original chirp * down chirp and original chirp * conjugate chirp \n",
    "mult_down = fftshift(fft(orig_signal * TQ_HIGH_DOWN_COMPLEX))\n",
    "mult_conj = fftshift(fft(orig_signal * TQ_HIGH_COMPLEX.conjugate()))\n",
    "mult_down_conj = fftshift(fft(orig_signal * TQ_HIGH_DOWN_COMPLEX.conjugate()))\n",
    "\n",
    "# IFFT\n",
    "y_mult_down = ifft(fft(orig_signal * TQ_HIGH_DOWN_COMPLEX))\n",
    "\n",
    "# Amplitude\n",
    "a = abs(y)\n",
    "a_conj = abs(y_conj)\n",
    "a_down = abs(y_down)\n",
    "a_down_conj = abs(y_down_conj)\n",
    "a_mult_conj = abs(mult_conj)\n",
    "a_mult_down = abs(mult_down)\n",
    "\n",
    "# Phase\n",
    "p = angle(y)\n",
    "p_conj = angle(y_conj)\n",
    "p_down = angle(y_down)\n",
    "p_mult_conj = angle(mult_conj)\n",
    "p_mult_down = angle(mult_down)\n",
    "\n",
    "print(\"Number of samples: {}\".format(len(y)))\n",
    "freq = fftshift(fftfreq(len(y), 1/SAMPLING_RATE))"
   ]
  },
  {
   "cell_type": "markdown",
   "metadata": {},
   "source": [
    "## Sample frames for testing the device"
   ]
  },
  {
   "cell_type": "code",
   "execution_count": 16,
   "metadata": {},
   "outputs": [],
   "source": [
    "FRAME_FIELD_LENGTH = {\"START_OF_FRAME\": 3, \"BITS\": 2}\n",
    "TRAILER = 8\n",
    "\n",
    "def field(level, length):\n",
    "    tone = None\n",
    "    tone_ = None\n",
    "    if level == HIGH or level == '1':\n",
    "        tone = TQ_HIGH\n",
    "        tone_ = TQ_HIGH\n",
    "    else:\n",
    "        tone = TQ_LOW\n",
    "        tone_ = TQ_LOW\n",
    "    for i in range(length - 1):\n",
    "        tone = append(tone, tone_)\n",
    "    return tone\n",
    "\n",
    "def frame(bits):\n",
    "    \n",
    "    field_ = field(HIGH, FRAME_FIELD_LENGTH[\"START_OF_FRAME\"])\n",
    "    bit_field_length = FRAME_FIELD_LENGTH[\"BITS\"] \n",
    "    for bit in bits:\n",
    "        field_ = append(field_, field(bit, bit_field_length))    \n",
    "    field_ = append(field_, field(LOW, TRAILER))\n",
    "           \n",
    "    return field_"
   ]
  },
  {
   "cell_type": "markdown",
   "metadata": {},
   "source": [
    "## ASCII code \"S\""
   ]
  },
  {
   "cell_type": "code",
   "execution_count": 17,
   "metadata": {},
   "outputs": [
    {
     "data": {
      "image/png": "[encoded data removed]",
      "text/plain": [
       "<matplotlib.figure.Figure at 0x21ed8a3aa20>"
      ]
     },
     "metadata": {},
     "output_type": "display_data"
    }
   ],
   "source": [
    "ascii = ord('S')\n",
    "ASCII_S = list(\"{0:08b}\".format(ascii))\n",
    "\n",
    "#ASCII_S = [0, 1, 0, 1, 0, 0, 1, 1]\n",
    "\n",
    "tone = frame(ASCII_S)\n",
    "\n",
    "#plt.plot(tone)\n",
    "\n",
    "plt.figure(figsize=(13, 2), dpi=80)\n",
    "f, t, Sxx = spectrogram(tone, fs=SAMPLING_RATE)\n",
    "#f, Pxx = welch(tone, fs=SAMPLING_RATE)\n",
    "plt.pcolormesh(t, f, Sxx)\n",
    "plt.ylabel('Frequency [Hz]')\n",
    "plt.xlabel('Time [sec]')\n",
    "plt.show()"
   ]
  },
  {
   "cell_type": "code",
   "execution_count": 18,
   "metadata": {},
   "outputs": [],
   "source": [
    "WAV_FILE = 'ChirpFrameS.wav'\n",
    "write(WAV_FILE, SAMPLING_RATE, tone)"
   ]
  },
  {
   "cell_type": "markdown",
   "metadata": {},
   "source": [
    "## ASCII codes \"Hello World!\""
   ]
  },
  {
   "cell_type": "code",
   "execution_count": 19,
   "metadata": {},
   "outputs": [
    {
     "data": {
      "image/png": "[encoded data removed]",
      "text/plain": [
       "<matplotlib.figure.Figure at 0x21ed8a50438>"
      ]
     },
     "metadata": {},
     "output_type": "display_data"
    }
   ],
   "source": [
    "ascii = ord('H')\n",
    "tone_H = frame(list(\"{0:08b}\".format(ord('H'))))\n",
    "tone_e = frame(list(\"{0:08b}\".format(ord('e'))))\n",
    "tone_l = frame(list(\"{0:08b}\".format(ord('l'))))\n",
    "tone_o = frame(list(\"{0:08b}\".format(ord('o'))))\n",
    "tone__ = frame(list(\"{0:08b}\".format(ord(' '))))\n",
    "tone_W = frame(list(\"{0:08b}\".format(ord('W'))))\n",
    "tone_r = frame(list(\"{0:08b}\".format(ord('r'))))\n",
    "tone_d = frame(list(\"{0:08b}\".format(ord('d'))))\n",
    "tone_exc = frame(list(\"{0:08b}\".format(ord('!'))))\n",
    "\n",
    "tone = tone_H\n",
    "tone = append(tone, tone_e)\n",
    "tone = append(tone, tone_l)\n",
    "tone = append(tone, tone_l)\n",
    "tone = append(tone, tone_o)\n",
    "tone = append(tone, tone__)\n",
    "tone = append(tone, tone_W)\n",
    "tone = append(tone, tone_o)\n",
    "tone = append(tone, tone_r)\n",
    "tone = append(tone, tone_l)\n",
    "tone = append(tone, tone_d)\n",
    "tone = append(tone, tone_exc)\n",
    "\n",
    "plt.figure(figsize=(7, 3), dpi=150)\n",
    "\n",
    "f, Pxx = welch(tone, fs=SAMPLING_RATE)\n",
    "plt.xlabel('Frequency [Hz]')\n",
    "plt.ylabel('Power')\n",
    "plt.plot(f, Pxx)\n",
    "\n",
    "WAV_FILE = 'ChirpFrameHelloWorld.wav'\n",
    "write(WAV_FILE, SAMPLING_RATE, tone)"
   ]
  },
  {
   "cell_type": "markdown",
   "metadata": {},
   "source": [
    "## Repeat"
   ]
  },
  {
   "cell_type": "code",
   "execution_count": 20,
   "metadata": {},
   "outputs": [
    {
     "data": {
      "image/png": "[encoded data removed]",
      "text/plain": [
       "<matplotlib.figure.Figure at 0x21ed8c1e9b0>"
      ]
     },
     "metadata": {},
     "output_type": "display_data"
    }
   ],
   "source": [
    "tone = frame([0,1,0,1,0,1,0,1])\n",
    "for i in range(16):\n",
    "    tone = append(tone, frame([0,1,0,1,0,1,0,1]))\n",
    "    \n",
    "plt.figure(figsize=(13, 2), dpi=80)\n",
    "plt.plot(tone)\n",
    "WAV_FILE = 'ChirpFrameRepeat.wav'\n",
    "write(WAV_FILE, SAMPLING_RATE, tone)"
   ]
  },
  {
   "cell_type": "markdown",
   "metadata": {},
   "source": [
    "## Constant tone"
   ]
  },
  {
   "cell_type": "code",
   "execution_count": 21,
   "metadata": {},
   "outputs": [
    {
     "data": {
      "image/png": "[encoded data removed]",
      "text/plain": [
       "<matplotlib.figure.Figure at 0x21ed8a3af60>"
      ]
     },
     "metadata": {},
     "output_type": "display_data"
    }
   ],
   "source": [
    "tone = TQ_HIGH;\n",
    "for i in range(3000):  # approx. 1 min length\n",
    "    tone = append(tone, TQ_HIGH)\n",
    "    \n",
    "plt.figure(figsize=(13, 2), dpi=80)\n",
    "plt.plot(tone)\n",
    "WAV_FILE = 'ChirpFrameConstant.wav'\n",
    "write(WAV_FILE, SAMPLING_RATE, tone)"
   ]
  },
  {
   "cell_type": "code",
   "execution_count": null,
   "metadata": {},
   "outputs": [],
   "source": []
  }
 ],
 "metadata": {
  "kernelspec": {
   "display_name": "Python 3",
   "language": "python",
   "name": "python3"
  },
  "language_info": {
   "codemirror_mode": {
    "name": "ipython",
    "version": 3
   },
   "file_extension": ".py",
   "mimetype": "text/x-python",
   "name": "python",
   "nbconvert_exporter": "python",
   "pygments_lexer": "ipython3",
   "version": "3.6.4"
  }
 },
 "nbformat": 4,
 "nbformat_minor": 2
}
