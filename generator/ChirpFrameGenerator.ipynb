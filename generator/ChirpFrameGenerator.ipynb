{
 "cells": [
  {
   "cell_type": "markdown",
   "metadata": {},
   "source": [
    "# Chirp frame generator for \"chirp\" project\n",
    "\n",
    "May 30, 2018\n",
    "\n",
    "Reference: https://dzone.com/articles/sound-synthesis-numpy"
   ]
  },
  {
   "cell_type": "code",
   "execution_count": 4,
   "metadata": {},
   "outputs": [],
   "source": [
    "%matplotlib inline\n",
    "\n",
    "from numpy import linspace, sin, pi, int16, append\n",
    "from scipy.io.wavfile import write\n",
    "import matplotlib.pyplot as plt"
   ]
  },
  {
   "cell_type": "code",
   "execution_count": 5,
   "metadata": {},
   "outputs": [],
   "source": [
    "SAMPLING_RATE = 48000  # Hz\n",
    "TQ = 0.0205  # Time quantum in sec\n",
    "AMPLITUDE = 20000"
   ]
  },
  {
   "cell_type": "markdown",
   "metadata": {},
   "source": [
    "## Tone synthesis"
   ]
  },
  {
   "cell_type": "code",
   "execution_count": 6,
   "metadata": {},
   "outputs": [],
   "source": [
    "def chirp(f1, f2, length, amp=1, rate=SAMPLING_RATE):\n",
    "    t = linspace(0, length, int(length * rate))\n",
    "    delta = float(f2 - f1)/float(length)\n",
    "    freq = f1 + delta * t\n",
    "    data = sin(2 * pi * freq * t) * amp\n",
    "    return data.astype(int16) # two byte integers"
   ]
  },
  {
   "cell_type": "code",
   "execution_count": 7,
   "metadata": {},
   "outputs": [],
   "source": [
    "F1 = 16000\n",
    "F2 = 18000\n",
    "\n",
    "def tq(level):\n",
    "    tone = None\n",
    "    if level >= 1:\n",
    "        tone = chirp(F1, F2, TQ, amp=AMPLITUDE)\n",
    "    else:\n",
    "        tone = chirp(0, 0, TQ, amp=AMPLITUDE)\n",
    "    return tone\n",
    "\n",
    "HIGH = 1\n",
    "LOW = 0\n",
    "\n",
    "TQ_HIGH = tq(HIGH)\n",
    "TQ_LOW = tq(LOW)"
   ]
  },
  {
   "cell_type": "code",
   "execution_count": 8,
   "metadata": {},
   "outputs": [],
   "source": [
    "FRAME_FIELD_LENGTH = {\"START_OF_FRAME\": 3, \"BITS\": 2}\n",
    "\n",
    "def field(level, length):\n",
    "    tone = None\n",
    "    tone_ = None\n",
    "    if level == HIGH:\n",
    "        tone = TQ_HIGH\n",
    "        tone_ = TQ_HIGH\n",
    "    else:\n",
    "        tone = TQ_LOW\n",
    "        tone_ = TQ_LOW\n",
    "    for i in range(length - 1):\n",
    "        tone = append(tone, tone_)\n",
    "    return tone\n",
    "\n",
    "def frame(bits):\n",
    "    \n",
    "    field_ = field(HIGH, FRAME_FIELD_LENGTH[\"START_OF_FRAME\"])\n",
    "    bit_field_length = FRAME_FIELD_LENGTH[\"BITS\"] \n",
    "    for bit in bits:\n",
    "        field_ = append(field_, field(bit, bit_field_length))\n",
    "   \n",
    "    return field_"
   ]
  },
  {
   "cell_type": "code",
   "execution_count": 9,
   "metadata": {},
   "outputs": [
    {
     "data": {
      "text/plain": [
       "[<matplotlib.lines.Line2D at 0x1abe84a4a90>]"
      ]
     },
     "execution_count": 9,
     "metadata": {},
     "output_type": "execute_result"
    },
    {
     "data": {
      "image/png": "[encoded data removed]",
      "text/plain": [
       "<matplotlib.figure.Figure at 0x1abe83e42e8>"
      ]
     },
     "metadata": {},
     "output_type": "display_data"
    }
   ],
   "source": [
    "ASCII_S = [0, 1, 0, 1, 0, 0, 1, 1]\n",
    "\n",
    "tone = frame(ASCII_S)\n",
    "\n",
    "plt.figure(figsize=(13, 2), dpi=80)\n",
    "plt.plot(tone)"
   ]
  },
  {
   "cell_type": "code",
   "execution_count": 10,
   "metadata": {},
   "outputs": [
    {
     "name": "stdout",
     "output_type": "stream",
     "text": [
      "[     0  17296 -17373 ...  17277  -9958      0]\n"
     ]
    }
   ],
   "source": [
    "print(tone)\n",
    "WAV_FILE = 'ChirpFrameS.wav'\n",
    "write(WAV_FILE, SAMPLING_RATE, tone)"
   ]
  },
  {
   "cell_type": "code",
   "execution_count": null,
   "metadata": {},
   "outputs": [],
   "source": []
  }
 ],
 "metadata": {
  "kernelspec": {
   "display_name": "Python 3",
   "language": "python",
   "name": "python3"
  },
  "language_info": {
   "codemirror_mode": {
    "name": "ipython",
    "version": 3
   },
   "file_extension": ".py",
   "mimetype": "text/x-python",
   "name": "python",
   "nbconvert_exporter": "python",
   "pygments_lexer": "ipython3",
   "version": "3.6.4"
  }
 },
 "nbformat": 4,
 "nbformat_minor": 2
}
