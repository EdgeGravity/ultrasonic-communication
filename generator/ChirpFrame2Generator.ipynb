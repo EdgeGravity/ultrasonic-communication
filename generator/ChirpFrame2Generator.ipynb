{
 "cells": [
  {
   "cell_type": "markdown",
   "metadata": {},
   "source": [
    "# Chirp frame generator for \"chirp\" project\n",
    "\n",
    "June 3, 2018\n",
    "\n",
    "Reference: https://dzone.com/articles/sound-synthesis-numpy"
   ]
  },
  {
   "cell_type": "code",
   "execution_count": 35,
   "metadata": {},
   "outputs": [],
   "source": [
    "%matplotlib inline\n",
    "\n",
    "from numpy import linspace, sin, pi, int16, append\n",
    "from scipy.io.wavfile import write\n",
    "import matplotlib.pyplot as plt"
   ]
  },
  {
   "cell_type": "code",
   "execution_count": 36,
   "metadata": {},
   "outputs": [],
   "source": [
    "SAMPLING_RATE = 100000  # Hz\n",
    "TQ = 0.0205 / 2.0 # Time quantum in sec\n",
    "AMPLITUDE = 20000"
   ]
  },
  {
   "cell_type": "markdown",
   "metadata": {},
   "source": [
    "## Tone synthesis"
   ]
  },
  {
   "cell_type": "code",
   "execution_count": 37,
   "metadata": {},
   "outputs": [],
   "source": [
    "def chirp(f1, f2, length, amp=1, rate=SAMPLING_RATE):\n",
    "    t = linspace(0, length, int(length * rate))\n",
    "    delta = float(f2 - f1)/float(length)\n",
    "    freq = f1 + delta * t\n",
    "    data = sin(2 * pi * freq * t) * amp\n",
    "    return data.astype(int16) # two byte integers"
   ]
  },
  {
   "cell_type": "code",
   "execution_count": 38,
   "metadata": {},
   "outputs": [],
   "source": [
    "F1 = 17000\n",
    "F2 = 18000\n",
    "\n",
    "def tq2(level):\n",
    "    tone = None\n",
    "    if level >= 1:\n",
    "        tone = chirp(F1, F2, TQ, amp=AMPLITUDE)\n",
    "    else:\n",
    "        tone = chirp(0, 0, TQ, amp=AMPLITUDE)\n",
    "    tone = append(tone, tone)\n",
    "    return tone\n",
    "\n",
    "HIGH = 1\n",
    "LOW = 0\n",
    "\n",
    "TQ_HIGH = tq2(HIGH)\n",
    "TQ_LOW = tq2(LOW)"
   ]
  },
  {
   "cell_type": "code",
   "execution_count": 39,
   "metadata": {},
   "outputs": [],
   "source": [
    "FRAME_FIELD_LENGTH = {\"START_OF_FRAME\": 3, \"BITS\": 2}\n",
    "TRAILER = 30\n",
    "\n",
    "def field(level, length):\n",
    "    tone = None\n",
    "    tone_ = None\n",
    "    if level == HIGH:\n",
    "        tone = TQ_HIGH\n",
    "        tone_ = TQ_HIGH\n",
    "    else:\n",
    "        tone = TQ_LOW\n",
    "        tone_ = TQ_LOW\n",
    "    for i in range(length - 1):\n",
    "        tone = append(tone, tone_)\n",
    "    return tone\n",
    "\n",
    "def frame(bits):\n",
    "    \n",
    "    field_ = field(HIGH, FRAME_FIELD_LENGTH[\"START_OF_FRAME\"])\n",
    "    bit_field_length = FRAME_FIELD_LENGTH[\"BITS\"] \n",
    "    for bit in bits:\n",
    "        field_ = append(field_, field(bit, bit_field_length))    \n",
    "    field_ = append(field_, field(LOW, TRAILER))\n",
    "           \n",
    "    return field_"
   ]
  },
  {
   "cell_type": "code",
   "execution_count": 40,
   "metadata": {},
   "outputs": [
    {
     "data": {
      "text/plain": [
       "[<matplotlib.lines.Line2D at 0x2603d9a4080>]"
      ]
     },
     "execution_count": 40,
     "metadata": {},
     "output_type": "execute_result"
    },
    {
     "data": {
      "image/png": "[encoded data removed]",
      "text/plain": [
       "<matplotlib.figure.Figure at 0x2603d99e2b0>"
      ]
     },
     "metadata": {},
     "output_type": "display_data"
    }
   ],
   "source": [
    "ASCII_S = [0, 1, 0, 1, 0, 0, 1, 1]\n",
    "\n",
    "tone = frame(ASCII_S)\n",
    "\n",
    "plt.figure(figsize=(13, 2), dpi=80)\n",
    "plt.plot(tone)"
   ]
  },
  {
   "cell_type": "code",
   "execution_count": 41,
   "metadata": {},
   "outputs": [],
   "source": [
    "WAV_FILE = 'ChirpFrameS.wav'\n",
    "write(WAV_FILE, SAMPLING_RATE, tone)"
   ]
  },
  {
   "cell_type": "code",
   "execution_count": 42,
   "metadata": {},
   "outputs": [
    {
     "data": {
      "image/png": "[encoded data removed]",
      "text/plain": [
       "<matplotlib.figure.Figure at 0x2603b8df828>"
      ]
     },
     "metadata": {},
     "output_type": "display_data"
    }
   ],
   "source": [
    "tone = frame([0, 1, 0, 1, 0, 1, 0, 1])\n",
    "\n",
    "plt.figure(figsize=(13, 2), dpi=80)\n",
    "plt.plot(tone)\n",
    "WAV_FILE = 'ChirpFrameCycle.wav'\n",
    "write(WAV_FILE, SAMPLING_RATE, tone)"
   ]
  },
  {
   "cell_type": "code",
   "execution_count": 43,
   "metadata": {},
   "outputs": [
    {
     "data": {
      "image/png": "[encoded data removed]",
      "text/plain": [
       "<matplotlib.figure.Figure at 0x2603b8a0f60>"
      ]
     },
     "metadata": {},
     "output_type": "display_data"
    }
   ],
   "source": [
    "tone = frame([1, 1, 1, 1, 1, 1, 1, 1])\n",
    "\n",
    "plt.figure(figsize=(13, 2), dpi=80)\n",
    "plt.plot(tone)\n",
    "WAV_FILE = 'ChirpFrameAll.wav'\n",
    "write(WAV_FILE, SAMPLING_RATE, tone)"
   ]
  },
  {
   "cell_type": "code",
   "execution_count": 44,
   "metadata": {},
   "outputs": [
    {
     "data": {
      "image/png": "[encoded data removed]",
      "text/plain": [
       "<matplotlib.figure.Figure at 0x2603b8dfdd8>"
      ]
     },
     "metadata": {},
     "output_type": "display_data"
    }
   ],
   "source": [
    "tone = frame([0,1,0,1,0,1,0,1])\n",
    "for i in range(16):\n",
    "    tone = append(tone, frame([0,1,0,1,0,1,0,1]))\n",
    "    \n",
    "plt.figure(figsize=(13, 2), dpi=80)\n",
    "plt.plot(tone)\n",
    "WAV_FILE = 'ChirpFrameRepeat.wav'\n",
    "write(WAV_FILE, SAMPLING_RATE, tone)"
   ]
  },
  {
   "cell_type": "code",
   "execution_count": 45,
   "metadata": {},
   "outputs": [
    {
     "data": {
      "image/png": "[encoded data removed]",
      "text/plain": [
       "<matplotlib.figure.Figure at 0x2603d998b00>"
      ]
     },
     "metadata": {},
     "output_type": "display_data"
    }
   ],
   "source": [
    "tone = TQ_HIGH;\n",
    "for i in range(3000):  # approx. 1 min length\n",
    "    tone = append(tone, TQ_HIGH)\n",
    "    \n",
    "plt.figure(figsize=(13, 2), dpi=80)\n",
    "plt.plot(tone)\n",
    "WAV_FILE = 'ChirpFrameConstant.wav'\n",
    "write(WAV_FILE, SAMPLING_RATE, tone)"
   ]
  },
  {
   "cell_type": "code",
   "execution_count": null,
   "metadata": {},
   "outputs": [],
   "source": []
  }
 ],
 "metadata": {
  "kernelspec": {
   "display_name": "Python 3",
   "language": "python",
   "name": "python3"
  },
  "language_info": {
   "codemirror_mode": {
    "name": "ipython",
    "version": 3
   },
   "file_extension": ".py",
   "mimetype": "text/x-python",
   "name": "python",
   "nbconvert_exporter": "python",
   "pygments_lexer": "ipython3",
   "version": "3.6.4"
  }
 },
 "nbformat": 4,
 "nbformat_minor": 2
}
