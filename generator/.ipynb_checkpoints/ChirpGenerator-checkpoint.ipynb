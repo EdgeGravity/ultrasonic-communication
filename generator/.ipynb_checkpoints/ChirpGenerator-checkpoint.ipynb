{
 "cells": [
  {
   "cell_type": "markdown",
   "metadata": {},
   "source": [
    "# Chirp generator for \"chirp\" project\n",
    "\n",
    "May 27, 2018\n",
    "\n",
    "Reference: https://dzone.com/articles/sound-synthesis-numpy"
   ]
  },
  {
   "cell_type": "code",
   "execution_count": 13,
   "metadata": {},
   "outputs": [
    {
     "data": {
      "text/plain": [
       "<matplotlib.figure.Figure at 0x1fb321a4630>"
      ]
     },
     "execution_count": 13,
     "metadata": {},
     "output_type": "execute_result"
    },
    {
     "data": {
      "text/plain": [
       "<matplotlib.figure.Figure at 0x1fb321a4630>"
      ]
     },
     "metadata": {},
     "output_type": "display_data"
    }
   ],
   "source": [
    "%matplotlib inline\n",
    "\n",
    "from numpy import linspace, sin, pi, int16, append\n",
    "from scipy.io.wavfile import write\n",
    "import matplotlib.pyplot as plt"
   ]
  },
  {
   "cell_type": "code",
   "execution_count": 14,
   "metadata": {},
   "outputs": [],
   "source": [
    "SAMPLING_RATE = 48000  # Hz\n",
    "TQ = 0.02  # Time quantum in sec\n",
    "SEGMENT = TQ * 4  # TQ * N, N >=4\n",
    "AMPLITUDE = 10000"
   ]
  },
  {
   "cell_type": "markdown",
   "metadata": {},
   "source": [
    "## Tone synthesis"
   ]
  },
  {
   "cell_type": "code",
   "execution_count": 15,
   "metadata": {},
   "outputs": [],
   "source": [
    "def chirp(f1, f2, length, amp=1, rate=SAMPLING_RATE):\n",
    "    t = linspace(0, length, int(length * rate))\n",
    "    delta = float(f2 - f1)/float(length)\n",
    "    freq = f1 + delta * t\n",
    "    data = sin(2 * pi * freq * t) * amp\n",
    "    return data.astype(int16) # two byte integers"
   ]
  },
  {
   "cell_type": "code",
   "execution_count": 16,
   "metadata": {},
   "outputs": [],
   "source": [
    "F1 = 16000\n",
    "F2 = 18000\n",
    "\n",
    "def tq_1():\n",
    "    return chirp(F1, F2, TQ, amp=AMPLITUDE)\n",
    "def tq_0():\n",
    "    return chirp(0, 0, TQ, amp=AMPLITUDE)"
   ]
  },
  {
   "cell_type": "code",
   "execution_count": 23,
   "metadata": {},
   "outputs": [
    {
     "data": {
      "text/plain": [
       "[<matplotlib.lines.Line2D at 0x1fb337bb940>]"
      ]
     },
     "execution_count": 23,
     "metadata": {},
     "output_type": "execute_result"
    },
    {
     "data": {
      "image/png": "[encoded data removed]",
      "text/plain": [
       "<matplotlib.figure.Figure at 0x1fb3208c2e8>"
      ]
     },
     "metadata": {},
     "output_type": "display_data"
    }
   ],
   "source": [
    "tone = tq_1()\n",
    "for i in range(3000):  # approx. 1 min length\n",
    "    tone = append(tone, tq_1())\n",
    "    \n",
    "plt.figure(figsize=(13, 2), dpi=80)\n",
    "plt.plot(tone)"
   ]
  },
  {
   "cell_type": "code",
   "execution_count": 24,
   "metadata": {},
   "outputs": [],
   "source": [
    "WAV_FILE = 'ChirpConstantSignal.wav'\n",
    "write(WAV_FILE, SAMPLING_RATE, tone)"
   ]
  },
  {
   "cell_type": "code",
   "execution_count": null,
   "metadata": {},
   "outputs": [],
   "source": []
  }
 ],
 "metadata": {
  "kernelspec": {
   "display_name": "Python 3",
   "language": "python",
   "name": "python3"
  },
  "language_info": {
   "codemirror_mode": {
    "name": "ipython",
    "version": 3
   },
   "file_extension": ".py",
   "mimetype": "text/x-python",
   "name": "python",
   "nbconvert_exporter": "python",
   "pygments_lexer": "ipython3",
   "version": "3.6.4"
  }
 },
 "nbformat": 4,
 "nbformat_minor": 2
}
