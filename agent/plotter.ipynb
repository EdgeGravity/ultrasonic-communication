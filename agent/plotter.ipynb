{
 "cells": [
  {
   "cell_type": "code",
   "execution_count": 146,
   "metadata": {},
   "outputs": [],
   "source": [
    "%matplotlib inline\n",
    "\n",
    "from numpy import linspace, abs, log10, var\n",
    "import matplotlib.pyplot as plt\n",
    "import peakutils\n",
    "from scipy.fftpack import fftfreq\n",
    "import pandas\n",
    "from IPython.display import display, Audio\n",
    "import time\n",
    "\n",
    "SAMPLING_RATE = 100000\n",
    "CENTER = 35000"
   ]
  },
  {
   "cell_type": "code",
   "execution_count": 147,
   "metadata": {},
   "outputs": [],
   "source": [
    "# Plot FFT frequency domain\n",
    "def plot_output(fft_output, thres=0.95, logscale=False):\n",
    "    output = fft_output.copy()\n",
    "    plt.figure(figsize=(8, 4), dpi=80)\n",
    "    freq = linspace(0, SAMPLING_RATE/2.0, len(output))\n",
    "        \n",
    "    if logscale:\n",
    "        output = 20 * log10(output)\n",
    "        plt.ylabel(\"Magnitude(dB)\")\n",
    "    else:\n",
    "        plt.ylabel(\"Magnitude\")\n",
    "\n",
    "    center = int(len(output) * CENTER / (SAMPLING_RATE / 2))\n",
    "    output[:center-100] = 0\n",
    "    output.loc[center+100:] = 0\n",
    "    peaks = peakutils.indexes(output, thres=thres)\n",
    "    plt.plot(freq, output)\n",
    "    \n",
    "    plt.xlabel(\"Frequency(Hz)\")\n",
    "    plt.title(\"Frequency domain\")\n",
    "\n",
    "    if len(peaks) == 2:\n",
    "            print(\"***** Detected! *****\")\n",
    "    elif len(peaks) == 1:\n",
    "            print(\"***** Detected! *****\") \n",
    "    # if len(peaks) > 0 and len(peaks) < 20:\n",
    "        #print(\"Frequencies at peaks: {} Hz\".format(freq[peaks]))\n",
    "        #print(\"Magnitude at peaks: {}\".format(output[peaks]))\n",
    "        #print(\"Number of peaks: {}\".format(len(output[peaks])))"
   ]
  },
  {
   "cell_type": "code",
   "execution_count": 229,
   "metadata": {},
   "outputs": [
    {
     "name": "stdout",
     "output_type": "stream",
     "text": [
      "***** Detected! *****\n"
     ]
    },
    {
     "data": {
      "image/png": "[encoded data removed]",
      "text/plain": [
       "<matplotlib.figure.Figure at 0x1034f216710>"
      ]
     },
     "metadata": {},
     "output_type": "display_data"
    }
   ],
   "source": [
    "df = pandas.read_csv(\"./out.fft\")\n",
    "plot_output(df['Magnitude'], logscale=False, thres=0.7)"
   ]
  },
  {
   "cell_type": "code",
   "execution_count": null,
   "metadata": {},
   "outputs": [],
   "source": []
  },
  {
   "cell_type": "code",
   "execution_count": null,
   "metadata": {},
   "outputs": [],
   "source": []
  },
  {
   "cell_type": "code",
   "execution_count": null,
   "metadata": {},
   "outputs": [],
   "source": []
  },
  {
   "cell_type": "code",
   "execution_count": null,
   "metadata": {},
   "outputs": [],
   "source": []
  }
 ],
 "metadata": {
  "kernelspec": {
   "display_name": "Python 3",
   "language": "python",
   "name": "python3"
  },
  "language_info": {
   "codemirror_mode": {
    "name": "ipython",
    "version": 3
   },
   "file_extension": ".py",
   "mimetype": "text/x-python",
   "name": "python",
   "nbconvert_exporter": "python",
   "pygments_lexer": "ipython3",
   "version": "3.6.4"
  }
 },
 "nbformat": 4,
 "nbformat_minor": 2
}
