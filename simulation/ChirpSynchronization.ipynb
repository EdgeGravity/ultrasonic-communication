{
 "cells": [
  {
   "cell_type": "markdown",
   "metadata": {},
   "source": [
    "# Chirp synchronization\n",
    "\n",
    "June 21, 2018"
   ]
  },
  {
   "cell_type": "code",
   "execution_count": 259,
   "metadata": {},
   "outputs": [],
   "source": [
    "%matplotlib inline\n",
    "\n",
    "from numpy import array, zeros, append, linspace, sin, cos, exp, pi, int16, abs, real, imag, random, sqrt, log10, var\n",
    "from scipy.io.wavfile import write\n",
    "from scipy.signal import spectrogram\n",
    "from scipy.fftpack import fft, ifft, fftfreq, fftshift\n",
    "import matplotlib.pyplot as plt\n",
    "import peakutils\n",
    "import pandas"
   ]
  },
  {
   "cell_type": "code",
   "execution_count": 260,
   "metadata": {},
   "outputs": [],
   "source": [
    "SAMPLING_RATE = 100000  # Hz\n",
    "SAMPLES = 2048\n",
    "TIME_FRAME = SAMPLES/SAMPLING_RATE # Time frame in sec\n",
    "AMPLITUDE = 20000 # 16bit PCM max amplitude\n",
    "\n",
    "# Chirp sweep range in Hz\n",
    "F1 = 17000\n",
    "F2 = 18000"
   ]
  },
  {
   "cell_type": "markdown",
   "metadata": {},
   "source": [
    "## Chirp tone synthesis"
   ]
  },
  {
   "cell_type": "code",
   "execution_count": 261,
   "metadata": {},
   "outputs": [],
   "source": [
    "# Complex version of chirp tone generator\n",
    "def chirp(f1=F1, f2=F2, amp=AMPLITUDE, updown=\"up\", length=TIME_FRAME, phase=-pi/2.0, rot=1.0):\n",
    "    t = linspace(0, length, int(length * SAMPLING_RATE))\n",
    "    delta = float(f2 - f1)/float(length)\n",
    "    if (updown == \"up\"):\n",
    "        freq = f1 + delta * t\n",
    "    elif (updown == \"down\"):\n",
    "        freq = f2 - delta * t\n",
    "    arg = (2 * pi * freq * t) * rot + phase\n",
    "    return exp(1j * arg) * amp\n",
    "\n",
    "# Real version of chirp tone generator\n",
    "def chirp_cos(f1=F1, f2=F2, amp=AMPLITUDE, updown=\"up\", length=TIME_FRAME, phase=-pi/2.0, rot=1.0):\n",
    "    t = linspace(0, length, int(length * SAMPLING_RATE))\n",
    "    delta = float(f2 - f1)/float(length)\n",
    "    if (updown == \"up\"):\n",
    "        freq = f1 + delta * t\n",
    "    elif (updown == \"down\"):\n",
    "        freq = f2 - delta * t\n",
    "    arg = (2 * pi * freq * t) * rot + phase\n",
    "    return cos(arg) * amp\n",
    "\n",
    "# Add time delay to chirp signal\n",
    "def add_delay(chirp, delay_rate=0.0):\n",
    "    l = len(chirp)\n",
    "    la = int(l * delay_rate)\n",
    "    a = zeros(la)\n",
    "    b = zeros(2 * l - (l + la))\n",
    "    return append(append(a, chirp), b)\n",
    "\n",
    "# Time shift to chirp signal\n",
    "def time_shift(chirp, shift_rate=0.0):\n",
    "    l = len(chirp)\n",
    "    t = int(l * shift_rate)\n",
    "    return append(chirp[t:], chirp[:t])\n",
    "\n",
    "# White noise generator\n",
    "def white_noise(amp=AMPLITUDE, length=TIME_FRAME):\n",
    "    a = random.random(int(length * SAMPLING_RATE)) * 2 * amp - amp\n",
    "    # b = random.random(int(length * SAMPLING_RATE)) * 2 * amp - amp\n",
    "    #return a + 1j * b\n",
    "    return a\n",
    "\n",
    "# Constant noise generator\n",
    "def constant_noise(freq=0, amp=AMPLITUDE, length=TIME_FRAME, phase=-pi/2.0, rot=1.0):\n",
    "    t = linspace(0, length, int(length * SAMPLING_RATE))\n",
    "    arg = (2 * pi * freq * t) * rot + phase\n",
    "    return cos(arg) * amp\n"
   ]
  },
  {
   "cell_type": "markdown",
   "metadata": {},
   "source": [
    "## FFT/IFFT functions"
   ]
  },
  {
   "cell_type": "code",
   "execution_count": 262,
   "metadata": {},
   "outputs": [],
   "source": [
    "# Plot FFT frequency domain\n",
    "def plot_fft(wave, thres=0.99, logscale=False):\n",
    "    plt.figure(figsize=(8, 4), dpi=80)\n",
    "    y = fftshift(fft(wave))\n",
    "\n",
    "    freq = fftshift(fftfreq(len(y), 1/SAMPLING_RATE))\n",
    "\n",
    "    a = abs(y)\n",
    "    if logscale:\n",
    "        plt.plot(freq, 10 * log10(a))\n",
    "        plt.ylabel(\"Magnitude(dB)\")\n",
    "    else:\n",
    "        plt.plot(freq, a)\n",
    "        plt.ylabel(\"Magnitude\")\n",
    "    plt.xlabel(\"Frequency(Hz)\")\n",
    "    plt.title(\"Frequency domain\")\n",
    "\n",
    "# Peaks\n",
    "def fft_peaks(wave, thres=0.99, logscale=False):\n",
    "    y = fftshift(fft(wave))\n",
    "\n",
    "    a = abs(y)\n",
    "    center = int(SAMPLES/2)\n",
    "    a[center-300:center+300] = 0\n",
    "\n",
    "    freq = fftshift(fftfreq(len(y), 1/SAMPLING_RATE))\n",
    "    return(freq[peakutils.indexes(a, thres=thres)])\n",
    "\n",
    "# Plot spectrogram\n",
    "def plot_spectrogram(wave, nperseg, band):\n",
    "    plt.figure(figsize=(8, 3), dpi=80)\n",
    "    f, t, Sxx = spectrogram(real(wave), nperseg=nperseg, fs=SAMPLING_RATE)\n",
    "    plt.pcolormesh(t, f[:band], Sxx[:band])\n",
    "    plt.ylabel('Frequency [Hz]')\n",
    "    plt.xlabel('Time [sec]')\n",
    "    plt.title(\"Spectrogram\")"
   ]
  },
  {
   "cell_type": "markdown",
   "metadata": {},
   "source": [
    "## Wave display"
   ]
  },
  {
   "cell_type": "code",
   "execution_count": 263,
   "metadata": {},
   "outputs": [],
   "source": [
    "# Plot wave\n",
    "def plot_wave(wave, real_only=True, logscale=False):\n",
    "    t = linspace(0, len(wave)/SAMPLING_RATE, len(wave))\n",
    "    plt.figure(figsize=(8, 4), dpi=80)\n",
    "\n",
    "    re = real(wave)\n",
    "    im = imag(wave)\n",
    "    if logscale:\n",
    "        re = 10 * log10(re)\n",
    "        im = 10 * log10(im)\n",
    "        plt.ylabel('Amplitude(dB)')\n",
    "    else:\n",
    "        plt.ylabel('Amplitude')\n",
    "\n",
    "    if real_only:\n",
    "        plt.plot(t, re)\n",
    "    else:\n",
    "        plt.plot(t, re)\n",
    "        plt.plot(t, im)\n",
    "\n",
    "    plt.xlabel('Time [sec]')\n",
    "    plt.title(\"Time domain\")"
   ]
  },
  {
   "cell_type": "markdown",
   "metadata": {},
   "source": [
    "# Support function"
   ]
  },
  {
   "cell_type": "code",
   "execution_count": 264,
   "metadata": {},
   "outputs": [],
   "source": [
    "def plot_correlation(shift_rate=0.0):\n",
    "    down_chirp = chirp(length=TIME_FRAME, updown=\"down\")\n",
    "    wave = time_shift(chirp_cos(length=TIME_FRAME), shift_rate) * down_chirp\n",
    "    plot_fft(wave)\n",
    "    print(\"F1 + F2 = {} Hz\".format(F1+F2))\n",
    "    print(\"Peaks: {} Hz\".format(fft_peaks(wave, thres=0.3)))\n",
    "\n",
    "def peaks(shift_rate=0.0, thres=0.3):\n",
    "    down_chirp = chirp(length=TIME_FRAME, updown=\"down\")\n",
    "    wave = time_shift(chirp_cos(length=TIME_FRAME), shift_rate) * down_chirp\n",
    "    return(fft_peaks(wave, thres=thres))"
   ]
  },
  {
   "cell_type": "markdown",
   "metadata": {},
   "source": [
    "## 0% shift"
   ]
  },
  {
   "cell_type": "code",
   "execution_count": 265,
   "metadata": {},
   "outputs": [
    {
     "name": "stdout",
     "output_type": "stream",
     "text": [
      "F1 + F2 = 35000 Hz\n",
      "Peaks: [35009.765625] Hz\n"
     ]
    },
    {
     "data": {
      "image/png": "[encoded data removed]",
      "text/plain": [
       "<matplotlib.figure.Figure at 0x14b1c9fe2b0>"
      ]
     },
     "metadata": {},
     "output_type": "display_data"
    }
   ],
   "source": [
    "plot_correlation(0.0)"
   ]
  },
  {
   "cell_type": "markdown",
   "metadata": {},
   "source": [
    "## 25% shift"
   ]
  },
  {
   "cell_type": "code",
   "execution_count": 266,
   "metadata": {},
   "outputs": [
    {
     "name": "stdout",
     "output_type": "stream",
     "text": [
      "F1 + F2 = 35000 Hz\n",
      "Peaks: [33496.09375  35498.046875] Hz\n"
     ]
    },
    {
     "data": {
      "image/png": "[encoded data removed]",
      "text/plain": [
       "<matplotlib.figure.Figure at 0x14b1ca29588>"
      ]
     },
     "metadata": {},
     "output_type": "display_data"
    }
   ],
   "source": [
    "plot_correlation(0.25)"
   ]
  },
  {
   "cell_type": "markdown",
   "metadata": {},
   "source": [
    "## 50% shift"
   ]
  },
  {
   "cell_type": "code",
   "execution_count": 267,
   "metadata": {},
   "outputs": [
    {
     "name": "stdout",
     "output_type": "stream",
     "text": [
      "F1 + F2 = 35000 Hz\n",
      "Peaks: [34033.203125 36035.15625 ] Hz\n"
     ]
    },
    {
     "data": {
      "image/png": "[encoded data removed]",
      "text/plain": [
       "<matplotlib.figure.Figure at 0x14b1c9e1550>"
      ]
     },
     "metadata": {},
     "output_type": "display_data"
    }
   ],
   "source": [
    "plot_correlation(0.5)"
   ]
  },
  {
   "cell_type": "markdown",
   "metadata": {},
   "source": [
    "## 75% shift"
   ]
  },
  {
   "cell_type": "code",
   "execution_count": 268,
   "metadata": {},
   "outputs": [
    {
     "name": "stdout",
     "output_type": "stream",
     "text": [
      "F1 + F2 = 35000 Hz\n",
      "Peaks: [34521.484375 36523.4375  ] Hz\n"
     ]
    },
    {
     "data": {
      "image/png": "[encoded data removed]",
      "text/plain": [
       "<matplotlib.figure.Figure at 0x14b1ca2e898>"
      ]
     },
     "metadata": {},
     "output_type": "display_data"
    }
   ],
   "source": [
    "plot_correlation(0.75)"
   ]
  },
  {
   "cell_type": "code",
   "execution_count": 281,
   "metadata": {},
   "outputs": [
    {
     "data": {
      "text/plain": [
       "[<matplotlib.lines.Line2D at 0x14b1cf848d0>]"
      ]
     },
     "execution_count": 281,
     "metadata": {},
     "output_type": "execute_result"
    },
    {
     "data": {
      "image/png": "[encoded data removed]",
      "text/plain": [
       "<matplotlib.figure.Figure at 0x14b1cf4b668>"
      ]
     },
     "metadata": {},
     "output_type": "display_data"
    }
   ],
   "source": [
    "shift = [i/100*100/8 for i in range(8)]\n",
    "position = [i for i in range(8)]\n",
    "p1 = []\n",
    "p2 = []\n",
    "for rate in shift:\n",
    "    p = sorted(peaks(rate, thres=0.3))\n",
    "    p1.append(p[-1])\n",
    "    if len(p) < 2:\n",
    "        p2.append(None)\n",
    "    else:\n",
    "        p2.append(p[-2])\n",
    "plt.title('Frame synchronization')\n",
    "plt.xlabel('Frequency [Hz]')\n",
    "plt.ylabel('Time Lag (unit: time frame / 8)')\n",
    "plt.plot(p1, position, \"r*\")\n",
    "plt.plot(p2, position, \"r*\")"
   ]
  },
  {
   "cell_type": "code",
   "execution_count": null,
   "metadata": {},
   "outputs": [],
   "source": []
  }
 ],
 "metadata": {
  "kernelspec": {
   "display_name": "Python 3",
   "language": "python",
   "name": "python3"
  },
  "language_info": {
   "codemirror_mode": {
    "name": "ipython",
    "version": 3
   },
   "file_extension": ".py",
   "mimetype": "text/x-python",
   "name": "python",
   "nbconvert_exporter": "python",
   "pygments_lexer": "ipython3",
   "version": "3.6.4"
  }
 },
 "nbformat": 4,
 "nbformat_minor": 2
}
