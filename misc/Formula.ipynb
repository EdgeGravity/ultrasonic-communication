{
 "cells": [
  {
   "cell_type": "markdown",
   "metadata": {},
   "source": [
    "# Formula"
   ]
  },
  {
   "cell_type": "markdown",
   "metadata": {},
   "source": [
    "## Eular's formula\n",
    " \n",
    "$$ e^{j \\theta} = \\cos \\theta + j \\sin \\theta $$"
   ]
  },
  {
   "cell_type": "markdown",
   "metadata": {},
   "source": [
    "## Complex sinusoid\n",
    "\n",
    "$$ \\omega = \\frac{2 \\pi }{T} $$\n",
    "\n",
    "$$ x(t) = A e^{j (\\omega t + \\phi_0)} = A \\cos (\\omega t + \\phi_0) + j A \\sin (\\omega t + \\phi_0) $$\n",
    "\n",
    "$$ \\cos \\omega t = \\frac{e^{j \\omega t} + e^{-j \\omega t}}{2}  $$ \n",
    "\n",
    "$$ \\sin \\omega t = \\frac{e^{j \\omega t} - e^{-j \\omega t}}{2j}  $$ "
   ]
  },
  {
   "cell_type": "markdown",
   "metadata": {},
   "source": [
    "## Fourier transform\n",
    "\n",
    "$$ F(\\omega) = \\int_{-\\infty}^{+\\infty} f(t)e^{-j \\omega t} dt $$\n",
    "\n",
    "$$ f(t) = \\frac{1}{2 \\pi} \\int_{-\\infty}^{+\\infty} F(\\omega)e^{j \\omega t} d\\omega $$\n"
   ]
  },
  {
   "cell_type": "markdown",
   "metadata": {},
   "source": [
    "## Chirp signal\n",
    "\n",
    "$$ f(t) = f_0 + k t $$\n",
    "\n",
    "$$ k = \\frac{f_1-f_0}{T} $$\n",
    "\n",
    "### Real chirp signal\n",
    "\n",
    "$$ x(t) = A \\cos\\left[\\phi_0 + 2\\pi \\left(f_0 + \\frac{k}{2} t \\right)t \\right] $$\n",
    "\n",
    "### Complex chirp signal\n",
    "\n",
    "$$ x(t) = A e^{j \\left[\\phi_0 + 2\\pi \\left(f_0 + \\frac{k}{2} t \\right)t \\right]}\n",
    " = A \\cos\\left[\\phi_0 + 2\\pi \\left(f_0 + \\frac{k}{2} t \\right)t \\right] + j A \\sin\\left[\\phi_0 + 2\\pi \\left(f_0 + \\frac{k}{2} t \\right)t \\right] $$\n",
    " \n",
    "$$ i(t) = A \\cos\\left[\\phi_0 + 2\\pi \\left(f_0 + \\frac{k}{2} t \\right)t \\right] $$\n",
    "\n",
    "$$ q(t) = A \\sin\\left[\\phi_0 + 2\\pi \\left(f_0 + \\frac{k}{2} t \\right)t \\right] $$\n",
    " "
   ]
  },
  {
   "cell_type": "markdown",
   "metadata": {},
   "source": [
    "## IQ modulation\n",
    "\n",
    "http://zone.ni.com/reference/en-XX/help/372058T-01/nirfsa/iq_modulation/\n",
    "\n",
    "### Modulation\n",
    "\n",
    "$$ I(t) = R(t) \\cos(\\omega_b t) $$\n",
    "\n",
    "$$ Q(t) = R(t) \\sin(\\omega_b t) $$\n",
    "\n",
    "$$ p(t) = I(t) \\cos(\\omega_c t) - Q(t) \\sin(\\omega_c t) = R(t) \\cos(\\omega_c t + \\omega_b t)$$\n",
    "\n",
    "In case of Chirp, R(t) is constant (Amplitude):\n",
    "\n",
    "$$ k = \\frac{f_1-f_0}{T} $$\n",
    "\n",
    "$$ \\omega_b(t) = 2\\pi \\left(f_0 + \\frac{k}{2} t \\right) $$\n",
    "\n",
    "$$ I(t) = A \\cos(\\omega_b(t) t) $$\n",
    "\n",
    "$$ Q(t) = A \\sin(\\omega_b(t) t) $$\n",
    "\n",
    "$$ p(t) = I(t) \\cos(\\omega_c t) - Q(t) \\sin(\\omega_c t) = A \\cos(\\omega_c t + \\omega_b(t) t)$$\n",
    "\n",
    "### Demodulation\n",
    "\n",
    "After low-pass filter,\n",
    "\n",
    "$$ I(t) = p(t) \\cos(\\omega_c t)  $$\n",
    "\n",
    "$$ Q(t) = p(t) \\sin(\\omega_c t)  $$"
   ]
  },
  {
   "cell_type": "markdown",
   "metadata": {},
   "source": [
    "## Low pass filter design\n",
    "\n",
    "CMSIS DSP FIR LPF: https://www.keil.com/pack/doc/CMSIS/DSP/html/group__FIRLPF.html\n",
    "\n",
    "### Impulse response for LPF\n",
    "\n",
    "$$ b(m) = 2 f_e sinc(2 \\pi f_e m) $$\n",
    "\n",
    "$$\n",
    "sinc(x) = \\begin{cases}\n",
    "    1 & (x=0) \\\\\n",
    "    \\frac{\\sin x}{x} & (otherwise)\n",
    "    \\end{cases}\n",
    "$$\n",
    "\n",
    "### Hanning window\n",
    "\n",
    "$$\n",
    "w(n) = \\begin{cases}\n",
    "    0.5-0.5\\cos \\left( \\frac{2 \\pi n}{N} \\right) & (0 \\leq n \\leq N-1) \\\\\n",
    "    0 & (otherwise)\n",
    "    \\end{cases}\n",
    "$$\n",
    "\n",
    "### Length of Hanning window for LPF \n",
    "\n",
    "$$ N = J + 1 = round \\left(\\frac{3.1}{\\delta} \\right) $$\n",
    "\n",
    "### Coefficients\n",
    "\n",
    "$$ b_w(m) = b(m) w(m) $$"
   ]
  },
  {
   "cell_type": "markdown",
   "metadata": {},
   "source": [
    "## Orthogonal chirp\n",
    "\n",
    "Since IQ modulation did not fit into RAM on STM32L4, I try this method instead.\n",
    "\n",
    "The simulation on Jupyter Notebook showed good SNR. It is also easy to implement this simple method on STM32L4. However, I need further study to see if this is a right way... "
   ]
  },
  {
   "cell_type": "markdown",
   "metadata": {},
   "source": [
    "$$ k = \\frac{f_1-f_0}{T} $$\n",
    "\n",
    "$$ \\omega_b(t) = 2\\pi \\left(f_0 + \\frac{k}{2} t \\right) $$\n",
    "\n",
    "Transmitted (received) baseband chirp tone,\n",
    "\n",
    "$$ W(t) = A \\cos(\\omega_b(t) t) - A \\sin(\\omega_b(t) t) $$\n",
    "\n",
    "Pre-generated up-chirp tone,\n",
    "\n",
    "$$ C(t) = A \\cos(\\omega_b(t) t) + j A \\sin(\\omega_b(t) t) $$\n",
    "\n",
    "Analysis on the receiver,\n",
    "\n",
    "$$ R(t) = W(t) C(t) = A^2 (\\cos^2(\\omega_b(t) t) - j\\sin^2(\\omega_b(t) t) + (j - 1) \\cos(\\omega_b(t) t) \\sin(\\omega_b(t) t)) $$\n",
    "\n",
    "$cos^2$ and $sin^2$ terms of $R(t)$ yield DC. Find peak(s) around zero Hz: $ FFT[R(t)] $"
   ]
  },
  {
   "cell_type": "markdown",
   "metadata": {},
   "source": [
    "## Synchronous addition to improve SNR\n",
    "\n",
    "$$ S(t) = \\sum\\limits_{s=s_0}^{s_1} R_s(t) $$\n",
    "\n",
    "Find peak(s) around zero Hz: $FFT[S(t)]$"
   ]
  },
  {
   "cell_type": "code",
   "execution_count": null,
   "metadata": {},
   "outputs": [],
   "source": []
  }
 ],
 "metadata": {
  "kernelspec": {
   "display_name": "Python 3",
   "language": "python",
   "name": "python3"
  },
  "language_info": {
   "codemirror_mode": {
    "name": "ipython",
    "version": 3
   },
   "file_extension": ".py",
   "mimetype": "text/x-python",
   "name": "python",
   "nbconvert_exporter": "python",
   "pygments_lexer": "ipython3",
   "version": "3.6.4"
  }
 },
 "nbformat": 4,
 "nbformat_minor": 2
}
