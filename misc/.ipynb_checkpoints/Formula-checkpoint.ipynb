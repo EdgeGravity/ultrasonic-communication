{
 "cells": [
  {
   "cell_type": "markdown",
   "metadata": {},
   "source": [
    "# Formula"
   ]
  },
  {
   "cell_type": "markdown",
   "metadata": {},
   "source": [
    "## Eular's formula\n",
    " \n",
    "$$ e^{j \\theta} = \\cos \\theta + j \\sin \\theta $$"
   ]
  },
  {
   "cell_type": "markdown",
   "metadata": {},
   "source": [
    "## Complex sinusoid\n",
    "\n",
    "$$ \\omega = \\frac{2 \\pi }{T} $$\n",
    "\n",
    "$$ x(t) = A e^{j (\\omega t + \\phi_0)} = A \\cos (\\omega t + \\phi_0) + j A \\sin (\\omega t + \\phi_0) $$\n",
    "\n",
    "$$ \\cos \\omega t = \\frac{e^{j \\omega t} + e^{-j \\omega t}}{2}  $$ \n",
    "\n",
    "$$ \\sin \\omega t = \\frac{e^{j \\omega t} - e^{-j \\omega t}}{2j}  $$ "
   ]
  },
  {
   "cell_type": "markdown",
   "metadata": {},
   "source": [
    "## Fourier transform\n",
    "\n",
    "$$ F(\\omega) = \\int_{-\\infty}^{+\\infty} f(t)e^{-j \\omega t} dt $$\n",
    "\n",
    "$$ f(t) = \\frac{1}{2 \\pi} \\int_{-\\infty}^{+\\infty} F(\\omega)e^{j \\omega t} d\\omega $$\n"
   ]
  },
  {
   "cell_type": "markdown",
   "metadata": {},
   "source": [
    "## Chirp signal\n",
    "\n",
    "$$ f(t) = f_0 + k t $$\n",
    "\n",
    "$$ k = \\frac{f_1-f_0}{T} $$\n",
    "\n",
    "### Real chirp signal\n",
    "\n",
    "$$ x(t) = A \\cos\\left[\\phi_0 + 2\\pi \\left(f_0 + \\frac{k}{2} t \\right)t \\right] $$\n",
    "\n",
    "### Complex chirp signal\n",
    "\n",
    "$$ x(t) = A e^{j \\left[\\phi_0 + 2\\pi \\left(f_0 + \\frac{k}{2} t \\right)t \\right]}\n",
    " = A \\cos\\left[\\phi_0 + 2\\pi \\left(f_0 + \\frac{k}{2} t \\right)t \\right] + j A \\sin\\left[\\phi_0 + 2\\pi \\left(f_0 + \\frac{k}{2} t \\right)t \\right] $$\n",
    " \n",
    "$$ i(t) = A \\cos\\left[\\phi_0 + 2\\pi \\left(f_0 + \\frac{k}{2} t \\right)t \\right] $$\n",
    "\n",
    "$$ q(t) = A \\sin\\left[\\phi_0 + 2\\pi \\left(f_0 + \\frac{k}{2} t \\right)t \\right] $$\n",
    " "
   ]
  },
  {
   "cell_type": "markdown",
   "metadata": {},
   "source": [
    "## IO modulation\n",
    "\n",
    "http://zone.ni.com/reference/en-XX/help/372058T-01/nirfsa/iq_modulation/\n",
    "\n",
    "### Modulation\n",
    "\n",
    "$$ I_t(t) = R(t) \\cos(\\omega_b t) $$\n",
    "\n",
    "$$ Q_t(t) = R(t) \\sin(\\omega_b t) $$\n",
    "\n",
    "$$ p_t(t) = I(t) \\cos(\\omega_c t) - Q(t) \\sin(\\omega_c t) = R(t) \\cos(\\omega_c t + \\omega_b t)$$\n",
    "\n",
    "In case of Chirp, R(t) is constant (Amplitude):\n",
    "\n",
    "$$ k = \\frac{f_1-f_0}{T} $$\n",
    "\n",
    "\n",
    "$$ \\omega_b(t) = 2\\pi \\left(f_0 + \\frac{k}{2} t \\right) $$\n",
    "\n",
    "$$ p_t(t) = I(t) \\cos(\\omega_c t) - Q(t) \\sin(\\omega_c t) = A \\cos(\\omega_c t + \\omega_b(t) t)$$\n",
    "\n",
    "### Demodulation\n",
    "\n",
    "After low-pass filter,\n",
    "\n",
    "$$ I_r(t) = p_r(t) \\cos(\\omega_c t)  $$\n",
    "\n",
    "$$ Q_r(t) = p_r(t) \\sin(\\omega_c t)  $$"
   ]
  },
  {
   "cell_type": "code",
   "execution_count": null,
   "metadata": {},
   "outputs": [],
   "source": []
  }
 ],
 "metadata": {
  "kernelspec": {
   "display_name": "Python 3",
   "language": "python",
   "name": "python3"
  },
  "language_info": {
   "codemirror_mode": {
    "name": "ipython",
    "version": 3
   },
   "file_extension": ".py",
   "mimetype": "text/x-python",
   "name": "python",
   "nbconvert_exporter": "python",
   "pygments_lexer": "ipython3",
   "version": "3.6.4"
  }
 },
 "nbformat": 4,
 "nbformat_minor": 2
}
